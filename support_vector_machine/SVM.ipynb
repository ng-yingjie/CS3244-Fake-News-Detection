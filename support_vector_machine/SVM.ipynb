{
 "cells": [
  {
   "cell_type": "code",
   "execution_count": 1,
   "metadata": {},
   "outputs": [],
   "source": [
    "import pandas as pd\n",
    "import seaborn as sns\n",
    "from sklearn.model_selection import train_test_split\n",
    "from sklearn.linear_model import SGDClassifier\n",
    "from sklearn.metrics import classification_report, accuracy_score, f1_score\n",
    "from sklearn.model_selection import GridSearchCV\n",
    "from sklearn import svm"
   ]
  },
  {
   "cell_type": "code",
   "execution_count": 2,
   "metadata": {},
   "outputs": [],
   "source": [
    "train_bow_df = pd.read_csv(\"../data/train_bow.csv\")\n",
    "train_tfidf_df = pd.read_csv(\"../data/train_tfidf.csv\")\n",
    "test_bow_df = pd.read_csv(\"../data/test_bow.csv\")\n",
    "test_tfidf_df = pd.read_csv(\"../data/test_tfidf.csv\")"
   ]
  },
  {
   "cell_type": "code",
   "execution_count": 3,
   "metadata": {},
   "outputs": [],
   "source": [
    "X_train_bow = train_bow_df.drop(\"isFakeNews\", axis = 1)\n",
    "y_train_bow = train_bow_df[\"isFakeNews\"]\n",
    "X_test_bow = test_bow_df.drop(\"isFakeNews\", axis = 1)\n",
    "y_test_bow = test_bow_df[\"isFakeNews\"]"
   ]
  },
  {
   "cell_type": "code",
   "execution_count": 4,
   "metadata": {},
   "outputs": [],
   "source": [
    "X_train_tfidf = train_tfidf_df.drop(\"isFakeNews\", axis = 1)\n",
    "y_train_tfidf = train_tfidf_df[\"isFakeNews\"]\n",
    "X_test_tfidf = test_tfidf_df.drop(\"isFakeNews\", axis = 1)\n",
    "y_test_tfidf = test_tfidf_df[\"isFakeNews\"]"
   ]
  },
  {
   "cell_type": "markdown",
   "metadata": {},
   "source": [
    "# Linear SVC "
   ]
  },
  {
   "cell_type": "code",
   "execution_count": 5,
   "metadata": {},
   "outputs": [],
   "source": [
    "def svc_param_selection_linear(X, y, nfolds):\n",
    "    Cs = [0.001, 0.01, 0.1, 1, 10]\n",
    "    param_grid = {'C': Cs}\n",
    "    grid_search = GridSearchCV(svm.SVC(kernel='linear'), param_grid, cv=nfolds)\n",
    "    grid_search.fit(X, y)\n",
    "    grid_search.best_params_\n",
    "    return grid_search.best_params_"
   ]
  },
  {
   "cell_type": "markdown",
   "metadata": {},
   "source": [
    "##### Tried running Grid search CV but it took took long so I just use C=1 instead"
   ]
  },
  {
   "cell_type": "code",
   "execution_count": null,
   "metadata": {},
   "outputs": [],
   "source": [
    "best_param_bow_linear = svc_param_selection_linear(X_train_bow, y_train_bow, 10)\n",
    "best_param_tfidf_linear = svc_param_selection_linear(X_train_tfidf, y_train_tfidf, 10)"
   ]
  },
  {
   "cell_type": "code",
   "execution_count": 6,
   "metadata": {},
   "outputs": [
    {
     "name": "stdout",
     "output_type": "stream",
     "text": [
      "Testing accuracy 0.9273840769903762\n"
     ]
    }
   ],
   "source": [
    "svc_linear_bow = svm.SVC(kernel='linear', C=1).fit(X_train_bow, y_train_bow)\n",
    "y_pred_bow= svc_linear_bow.predict(X_test_bow)\n",
    "print('Testing accuracy %s' % accuracy_score(y_test_bow, y_pred_bow))\n"
   ]
  },
  {
   "cell_type": "code",
   "execution_count": 10,
   "metadata": {},
   "outputs": [
    {
     "name": "stdout",
     "output_type": "stream",
     "text": [
      "Testing accuracy 0.9052930883639545\n"
     ]
    }
   ],
   "source": [
    "svc_linear_tfidf = svm.SVC(kernel='linear', C=1).fit(X_train_tfidf, y_train_tfidf)\n",
    "y_pred_tfidf = svc_linear_tfidf.predict(X_test_tfidf)\n",
    "print('Testing accuracy %s' % accuracy_score(y_test_tfidf, y_pred_tfidf))"
   ]
  },
  {
   "cell_type": "markdown",
   "metadata": {},
   "source": [
    "# Radial SVC"
   ]
  },
  {
   "cell_type": "code",
   "execution_count": 11,
   "metadata": {},
   "outputs": [],
   "source": [
    "def svc_param_selection_radial(X, y, nfolds):\n",
    "    Cs = [0.001, 0.01, 0.1, 1, 10]\n",
    "    gammas = [0.001, 0.01, 0.1, 1]\n",
    "    param_grid = {'C': Cs, 'gamma' : gammas}\n",
    "    grid_search = GridSearchCV(svm.SVC(kernel='rbf'), param_grid, cv=nfolds)\n",
    "    grid_search.fit(X, y)\n",
    "    grid_search.best_params_\n",
    "    return grid_search.best_params_"
   ]
  },
  {
   "cell_type": "code",
   "execution_count": null,
   "metadata": {},
   "outputs": [],
   "source": [
    "best_param_bow_radial = svc_param_selection_radial(X_train_bow, y_train_bow, 10)\n",
    "best_param_tfidf_radial = svc_param_selection_radial(X_train_tfidf, y_train_tfidf, 10)"
   ]
  },
  {
   "cell_type": "code",
   "execution_count": 8,
   "metadata": {},
   "outputs": [
    {
     "name": "stdout",
     "output_type": "stream",
     "text": [
      "Testing accuracy 0.9278215223097113\n"
     ]
    }
   ],
   "source": [
    "svc_radial_bow = svm.SVC(kernel='rbf', C=1,gamma=0.1).fit(X_train_bow, y_train_bow)\n",
    "y_pred_bow = svc_radial_bow.predict(X_test_bow)\n",
    "print('Testing accuracy %s' % accuracy_score(y_test_bow, y_pred_bow))"
   ]
  },
  {
   "cell_type": "code",
   "execution_count": 9,
   "metadata": {},
   "outputs": [
    {
     "name": "stdout",
     "output_type": "stream",
     "text": [
      "Testing accuracy 0.9052930883639545\n"
     ]
    }
   ],
   "source": [
    "svc_radial_tfidf = svm.SVC(kernel='rbf', C=1,gamma=0.1).fit(X_train_tfidf, y_train_tfidf)\n",
    "y_pred_tfidf = svc_radial_tfidf.predict(X_test_tfidf)\n",
    "print('Testing accuracy %s' % accuracy_score(y_test_tfidf, y_pred_tfidf))"
   ]
  },
  {
   "cell_type": "code",
   "execution_count": null,
   "metadata": {},
   "outputs": [],
   "source": []
  }
 ],
 "metadata": {
  "kernelspec": {
   "display_name": "Python 3",
   "language": "python",
   "name": "python3"
  },
  "language_info": {
   "codemirror_mode": {
    "name": "ipython",
    "version": 3
   },
   "file_extension": ".py",
   "mimetype": "text/x-python",
   "name": "python",
   "nbconvert_exporter": "python",
   "pygments_lexer": "ipython3",
   "version": "3.7.6"
  }
 },
 "nbformat": 4,
 "nbformat_minor": 4
}
