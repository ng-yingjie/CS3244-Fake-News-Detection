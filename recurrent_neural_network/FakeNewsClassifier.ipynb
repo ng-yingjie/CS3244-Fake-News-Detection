{
 "cells": [
  {
   "cell_type": "code",
   "execution_count": 1,
   "metadata": {
    "colab": {
     "base_uri": "https://localhost:8080/",
     "height": 33
    },
    "colab_type": "code",
    "id": "ofNGIHq02U3R",
    "outputId": "b6e306a0-9071-4fe5-a03b-7bfde0dcb8c6"
   },
   "outputs": [],
   "source": [
    "# First we import the required libraries\n",
    "\n",
    "import tensorflow as tf\n",
    "import numpy as np\n",
    "import pandas as pd\n",
    "import matplotlib.pyplot as plt\n",
    "\n",
    "from sklearn.model_selection import train_test_split\n",
    "from tensorflow.keras.preprocessing.text import Tokenizer\n",
    "from tensorflow.keras.preprocessing.sequence import pad_sequences\n",
    "from tensorflow.keras import backend as K \n",
    "K.clear_session()"
   ]
  },
  {
   "cell_type": "code",
   "execution_count": 2,
   "metadata": {
    "colab": {
     "base_uri": "https://localhost:8080/",
     "height": 117
    },
    "colab_type": "code",
    "id": "7YHDGDv7_VU2",
    "outputId": "94e8ecc2-88df-4681-efba-6cff72dd8374"
   },
   "outputs": [
    {
     "data": {
      "text/plain": [
       "id        20800\n",
       "title     20800\n",
       "author    20800\n",
       "text      20800\n",
       "label     20800\n",
       "dtype: int64"
      ]
     },
     "execution_count": 2,
     "metadata": {},
     "output_type": "execute_result"
    }
   ],
   "source": [
    "# Retrieve the data\n",
    "\n",
    "df = pd.read_csv('../data/raw.csv')\n",
    "df = df.fillna(' ')\n",
    "df.count()"
   ]
  },
  {
   "cell_type": "code",
   "execution_count": 3,
   "metadata": {
    "colab": {
     "base_uri": "https://localhost:8080/",
     "height": 33
    },
    "colab_type": "code",
    "id": "qHas2w8Dj5dq",
    "outputId": "86c149a3-4565-48ec-8733-2ab2f4d50525"
   },
   "outputs": [
    {
     "name": "stdout",
     "output_type": "stream",
     "text": [
      "238934\n"
     ]
    }
   ],
   "source": [
    "# Tokenize text\n",
    "\n",
    "tokenizer = Tokenizer()\n",
    "tokenizer.fit_on_texts(df['text'])\n",
    "word_index = tokenizer.word_index\n",
    "vocab_size=len(word_index)\n",
    "print(vocab_size)\n",
    "\n",
    "# Padding data\n",
    "\n",
    "sequences = tokenizer.texts_to_sequences(df['text'])\n",
    "padded = pad_sequences(sequences, maxlen=500, padding='post', truncating='post')"
   ]
  },
  {
   "cell_type": "code",
   "execution_count": 4,
   "metadata": {
    "colab": {},
    "colab_type": "code",
    "id": "L4VVJUN55b6H"
   },
   "outputs": [],
   "source": [
    "split = 0.25\n",
    "split_n = int(round(len(padded)*(1-split),0))\n",
    "\n",
    "train_data = padded[:split_n]\n",
    "train_labels = df['label'].values[:split_n]\n",
    "test_data = padded[split_n:]\n",
    "test_labels = df['label'].values[split_n:]"
   ]
  },
  {
   "cell_type": "code",
   "execution_count": 5,
   "metadata": {
    "colab": {
     "base_uri": "https://localhost:8080/",
     "height": 217
    },
    "colab_type": "code",
    "id": "4_cKfNmzkH2v",
    "outputId": "724593b4-c735-40a2-e798-189cc840f507"
   },
   "outputs": [
    {
     "name": "stdout",
     "output_type": "stream",
     "text": [
      "100\n"
     ]
    }
   ],
   "source": [
    "# Import tensor representations for words\n",
    "embeddings_index = {};\n",
    "with open('glove.6B.100d.txt') as f:\n",
    "    for line in f:\n",
    "        values = line.split();\n",
    "        word = values[0];\n",
    "        coefs = np.asarray(values[1:], dtype='float32');\n",
    "        embeddings_index[word] = coefs;\n",
    "print(len(coefs))\n",
    "\n",
    "embeddings_matrix = np.zeros((vocab_size+1, 100));\n",
    "for word, i in word_index.items():\n",
    "    embedding_vector = embeddings_index.get(word);\n",
    "    if embedding_vector is not None:\n",
    "        embeddings_matrix[i] = embedding_vector;"
   ]
  },
  {
   "cell_type": "code",
   "execution_count": 6,
   "metadata": {
    "colab": {},
    "colab_type": "code",
    "id": "hjkzdejAeSiu"
   },
   "outputs": [],
   "source": [
    "# Build the architecture of the model\n",
    "     \n",
    "model = tf.keras.Sequential([\n",
    "    tf.keras.layers.Embedding(vocab_size+1, 100, weights=[embeddings_matrix], trainable=False),\n",
    "    tf.keras.layers.Dropout(0.2),\n",
    "    tf.keras.layers.Conv1D(64, 5, activation='relu'),\n",
    "    tf.keras.layers.MaxPooling1D(pool_size=4),\n",
    "    tf.keras.layers.LSTM(20, return_sequences=True),\n",
    "    tf.keras.layers.LSTM(20),\n",
    "    tf.keras.layers.Dropout(0.2),  \n",
    "    tf.keras.layers.Dense(512),\n",
    "    tf.keras.layers.Dropout(0.3),  \n",
    "    tf.keras.layers.Dense(256),\n",
    "    tf.keras.layers.Dense(1, activation='sigmoid')\n",
    "])"
   ]
  },
  {
   "cell_type": "code",
   "execution_count": 7,
   "metadata": {
    "colab": {
     "base_uri": "https://localhost:8080/",
     "height": 718
    },
    "colab_type": "code",
    "id": "ozzZOuJClDPG",
    "outputId": "75dba8ae-e001-4cfa-d79a-d3b95afdc981"
   },
   "outputs": [
    {
     "name": "stdout",
     "output_type": "stream",
     "text": [
      "Model: \"sequential\"\n",
      "_________________________________________________________________\n",
      "Layer (type)                 Output Shape              Param #   \n",
      "=================================================================\n",
      "embedding (Embedding)        (None, None, 100)         23893500  \n",
      "_________________________________________________________________\n",
      "dropout (Dropout)            (None, None, 100)         0         \n",
      "_________________________________________________________________\n",
      "conv1d (Conv1D)              (None, None, 64)          32064     \n",
      "_________________________________________________________________\n",
      "max_pooling1d (MaxPooling1D) (None, None, 64)          0         \n",
      "_________________________________________________________________\n",
      "lstm (LSTM)                  (None, None, 20)          6800      \n",
      "_________________________________________________________________\n",
      "lstm_1 (LSTM)                (None, 20)                3280      \n",
      "_________________________________________________________________\n",
      "dropout_1 (Dropout)          (None, 20)                0         \n",
      "_________________________________________________________________\n",
      "dense (Dense)                (None, 512)               10752     \n",
      "_________________________________________________________________\n",
      "dropout_2 (Dropout)          (None, 512)               0         \n",
      "_________________________________________________________________\n",
      "dense_1 (Dense)              (None, 256)               131328    \n",
      "_________________________________________________________________\n",
      "dense_2 (Dense)              (None, 1)                 257       \n",
      "=================================================================\n",
      "Total params: 24,077,981\n",
      "Trainable params: 184,481\n",
      "Non-trainable params: 23,893,500\n",
      "_________________________________________________________________\n",
      "Train on 15600 samples, validate on 5200 samples\n",
      "Epoch 1/50\n",
      "15600/15600 [==============================] - 55s 4ms/sample - loss: 0.4681 - accuracy: 0.7716 - val_loss: 0.2322 - val_accuracy: 0.9110\n",
      "Epoch 2/50\n",
      "15600/15600 [==============================] - 54s 3ms/sample - loss: 0.2215 - accuracy: 0.9180 - val_loss: 0.2125 - val_accuracy: 0.9163\n",
      "Epoch 3/50\n",
      "15600/15600 [==============================] - 55s 3ms/sample - loss: 0.1591 - accuracy: 0.9406 - val_loss: 0.2587 - val_accuracy: 0.9088\n",
      "Epoch 4/50\n",
      "15600/15600 [==============================] - 56s 4ms/sample - loss: 0.1166 - accuracy: 0.9596 - val_loss: 0.1424 - val_accuracy: 0.9394\n",
      "Epoch 5/50\n",
      "15600/15600 [==============================] - 58s 4ms/sample - loss: 0.0935 - accuracy: 0.9680 - val_loss: 0.1114 - val_accuracy: 0.9604\n",
      "Epoch 6/50\n",
      "15600/15600 [==============================] - 58s 4ms/sample - loss: 0.0890 - accuracy: 0.9706 - val_loss: 0.1055 - val_accuracy: 0.9685\n",
      "Epoch 7/50\n",
      "15600/15600 [==============================] - 64s 4ms/sample - loss: 0.0711 - accuracy: 0.9753 - val_loss: 0.0912 - val_accuracy: 0.9631\n",
      "Epoch 8/50\n",
      "15600/15600 [==============================] - 61s 4ms/sample - loss: 0.0614 - accuracy: 0.9785 - val_loss: 0.0759 - val_accuracy: 0.9748\n",
      "Epoch 9/50\n",
      "15600/15600 [==============================] - 64s 4ms/sample - loss: 0.0567 - accuracy: 0.9796 - val_loss: 0.0919 - val_accuracy: 0.9712\n",
      "Epoch 10/50\n",
      "15600/15600 [==============================] - 64s 4ms/sample - loss: 0.0500 - accuracy: 0.9830 - val_loss: 0.1165 - val_accuracy: 0.9715\n",
      "Epoch 11/50\n",
      "15600/15600 [==============================] - 66s 4ms/sample - loss: 0.0450 - accuracy: 0.9853 - val_loss: 0.1774 - val_accuracy: 0.9446\n",
      "Epoch 12/50\n",
      "15600/15600 [==============================] - 68s 4ms/sample - loss: 0.0542 - accuracy: 0.9829 - val_loss: 0.1187 - val_accuracy: 0.9660\n",
      "Epoch 13/50\n",
      "15600/15600 [==============================] - 69s 4ms/sample - loss: 0.0373 - accuracy: 0.9883 - val_loss: 0.0850 - val_accuracy: 0.9733\n",
      "Epoch 14/50\n",
      "15600/15600 [==============================] - 68s 4ms/sample - loss: 0.0332 - accuracy: 0.9883 - val_loss: 0.1059 - val_accuracy: 0.9685\n",
      "Epoch 15/50\n",
      "15600/15600 [==============================] - 67s 4ms/sample - loss: 0.0393 - accuracy: 0.9879 - val_loss: 0.0852 - val_accuracy: 0.9721\n",
      "Epoch 16/50\n",
      "15600/15600 [==============================] - 70s 4ms/sample - loss: 0.0355 - accuracy: 0.9896 - val_loss: 0.0915 - val_accuracy: 0.9727\n",
      "Epoch 17/50\n",
      "15600/15600 [==============================] - 70s 4ms/sample - loss: 0.0343 - accuracy: 0.9889 - val_loss: 0.0862 - val_accuracy: 0.9744\n",
      "Epoch 18/50\n",
      "15600/15600 [==============================] - 75s 5ms/sample - loss: 0.0265 - accuracy: 0.9912 - val_loss: 0.0985 - val_accuracy: 0.9733\n",
      "Epoch 19/50\n",
      "15600/15600 [==============================] - 74s 5ms/sample - loss: 0.0328 - accuracy: 0.9893 - val_loss: 0.1946 - val_accuracy: 0.9619\n",
      "Epoch 20/50\n",
      "15600/15600 [==============================] - 80s 5ms/sample - loss: 0.0267 - accuracy: 0.9921 - val_loss: 0.1055 - val_accuracy: 0.9704\n",
      "Epoch 21/50\n",
      "15600/15600 [==============================] - 78s 5ms/sample - loss: 0.0279 - accuracy: 0.9914 - val_loss: 0.0776 - val_accuracy: 0.9769\n",
      "Epoch 22/50\n",
      "15600/15600 [==============================] - 78s 5ms/sample - loss: 0.0266 - accuracy: 0.9918 - val_loss: 0.0982 - val_accuracy: 0.9738\n",
      "Epoch 23/50\n",
      "15600/15600 [==============================] - 75s 5ms/sample - loss: 0.0341 - accuracy: 0.9909 - val_loss: 0.1789 - val_accuracy: 0.9652\n",
      "Epoch 24/50\n",
      "15600/15600 [==============================] - 69s 4ms/sample - loss: 0.0496 - accuracy: 0.9845 - val_loss: 0.2721 - val_accuracy: 0.9365\n",
      "Epoch 25/50\n",
      "15600/15600 [==============================] - 72s 5ms/sample - loss: 0.0671 - accuracy: 0.9784 - val_loss: 0.1208 - val_accuracy: 0.9673\n",
      "Epoch 26/50\n",
      "15600/15600 [==============================] - 78s 5ms/sample - loss: 0.0484 - accuracy: 0.9860 - val_loss: 0.0896 - val_accuracy: 0.9715\n",
      "Epoch 27/50\n",
      "15600/15600 [==============================] - 77s 5ms/sample - loss: 0.0239 - accuracy: 0.9926 - val_loss: 0.0910 - val_accuracy: 0.9773\n",
      "Epoch 28/50\n",
      "15600/15600 [==============================] - 73s 5ms/sample - loss: 0.0178 - accuracy: 0.9951 - val_loss: 0.0788 - val_accuracy: 0.9788\n",
      "Epoch 29/50\n",
      "15600/15600 [==============================] - 73s 5ms/sample - loss: 0.0189 - accuracy: 0.9951 - val_loss: 0.0922 - val_accuracy: 0.9779\n",
      "Epoch 30/50\n",
      "15600/15600 [==============================] - 72s 5ms/sample - loss: 0.0178 - accuracy: 0.9950 - val_loss: 0.0986 - val_accuracy: 0.9787\n",
      "Epoch 31/50\n",
      "15600/15600 [==============================] - 73s 5ms/sample - loss: 0.0261 - accuracy: 0.9924 - val_loss: 0.0787 - val_accuracy: 0.9702\n",
      "Epoch 32/50\n",
      "15600/15600 [==============================] - 70s 4ms/sample - loss: 0.0238 - accuracy: 0.9924 - val_loss: 0.0771 - val_accuracy: 0.9771\n",
      "Epoch 33/50\n",
      "15600/15600 [==============================] - 74s 5ms/sample - loss: 0.0139 - accuracy: 0.9960 - val_loss: 0.1050 - val_accuracy: 0.9777\n",
      "Epoch 34/50\n",
      "15600/15600 [==============================] - 73s 5ms/sample - loss: 0.0151 - accuracy: 0.9953 - val_loss: 0.1004 - val_accuracy: 0.9783\n",
      "Epoch 35/50\n",
      "15600/15600 [==============================] - 73s 5ms/sample - loss: 0.0223 - accuracy: 0.9933 - val_loss: 0.1011 - val_accuracy: 0.9752\n",
      "Epoch 36/50\n",
      "15600/15600 [==============================] - 72s 5ms/sample - loss: 0.0224 - accuracy: 0.9929 - val_loss: 0.0939 - val_accuracy: 0.9771\n",
      "Epoch 37/50\n",
      "15600/15600 [==============================] - 71s 5ms/sample - loss: 0.0120 - accuracy: 0.9964 - val_loss: 0.0864 - val_accuracy: 0.9769\n",
      "Epoch 38/50\n",
      "15600/15600 [==============================] - 71s 5ms/sample - loss: 0.0152 - accuracy: 0.9953 - val_loss: 0.0971 - val_accuracy: 0.9744\n",
      "Epoch 39/50\n",
      "15600/15600 [==============================] - 72s 5ms/sample - loss: 0.0139 - accuracy: 0.9956 - val_loss: 0.0740 - val_accuracy: 0.9779\n",
      "Epoch 40/50\n",
      "15600/15600 [==============================] - 72s 5ms/sample - loss: 0.0133 - accuracy: 0.9952 - val_loss: 0.1110 - val_accuracy: 0.9783\n",
      "Epoch 41/50\n",
      "15600/15600 [==============================] - 73s 5ms/sample - loss: 0.0176 - accuracy: 0.9942 - val_loss: 0.0821 - val_accuracy: 0.9800\n",
      "Epoch 42/50\n",
      "15600/15600 [==============================] - 74s 5ms/sample - loss: 0.0154 - accuracy: 0.9957 - val_loss: 0.1010 - val_accuracy: 0.9790\n",
      "Epoch 43/50\n",
      "15600/15600 [==============================] - 74s 5ms/sample - loss: 0.0152 - accuracy: 0.9951 - val_loss: 0.0896 - val_accuracy: 0.9796\n",
      "Epoch 44/50\n",
      "15600/15600 [==============================] - 66s 4ms/sample - loss: 0.0127 - accuracy: 0.9961 - val_loss: 0.0859 - val_accuracy: 0.9798\n",
      "Epoch 45/50\n",
      "15600/15600 [==============================] - 69s 4ms/sample - loss: 0.0155 - accuracy: 0.9953 - val_loss: 0.1204 - val_accuracy: 0.9738\n",
      "Epoch 46/50\n",
      "15600/15600 [==============================] - 71s 5ms/sample - loss: 0.0133 - accuracy: 0.9959 - val_loss: 0.1156 - val_accuracy: 0.9796\n",
      "Epoch 47/50\n",
      "15600/15600 [==============================] - 68s 4ms/sample - loss: 0.0127 - accuracy: 0.9965 - val_loss: 0.0841 - val_accuracy: 0.9788\n",
      "Epoch 48/50\n",
      "15600/15600 [==============================] - 67s 4ms/sample - loss: 0.0151 - accuracy: 0.9960 - val_loss: 0.1205 - val_accuracy: 0.9729\n",
      "Epoch 49/50\n",
      "15600/15600 [==============================] - 66s 4ms/sample - loss: 0.0138 - accuracy: 0.9963 - val_loss: 0.1376 - val_accuracy: 0.9796\n",
      "Epoch 50/50\n",
      "15600/15600 [==============================] - 67s 4ms/sample - loss: 0.0137 - accuracy: 0.9961 - val_loss: 0.0877 - val_accuracy: 0.9773\n",
      "Training Complete\n"
     ]
    }
   ],
   "source": [
    "model.compile(loss='binary_crossentropy',optimizer='adam',metrics=['accuracy'])\n",
    "model.summary()\n",
    "\n",
    "# history = model.fit(train_data, train_labels, epochs=5, batch_size=100, validation_data=[test_data, test_labels])\n",
    "history = model.fit(train_data, train_labels, epochs=50, validation_data=[test_data, test_labels])\n",
    "\n",
    "print(\"Training Complete\")"
   ]
  },
  {
   "cell_type": "code",
   "execution_count": 15,
   "metadata": {},
   "outputs": [
    {
     "name": "stdout",
     "output_type": "stream",
     "text": [
      "Model: \"sequential_1\"\n",
      "_________________________________________________________________\n",
      "Layer (type)                 Output Shape              Param #   \n",
      "=================================================================\n",
      "embedding_1 (Embedding)      (None, None, 100)         23893500  \n",
      "_________________________________________________________________\n",
      "dense_3 (Dense)              (None, None, 256)         25856     \n",
      "_________________________________________________________________\n",
      "dense_4 (Dense)              (None, None, 256)         65792     \n",
      "_________________________________________________________________\n",
      "dense_5 (Dense)              (None, None, 1)           257       \n",
      "=================================================================\n",
      "Total params: 23,985,405\n",
      "Trainable params: 91,905\n",
      "Non-trainable params: 23,893,500\n",
      "_________________________________________________________________\n"
     ]
    }
   ],
   "source": [
    "# Build the architecture of the model\n",
    "\n",
    "model_ff = tf.keras.Sequential([\n",
    "    tf.keras.layers.Embedding(vocab_size+1, 100, weights=[embeddings_matrix], trainable=False),\n",
    "    \n",
    "    tf.keras.layers.Dense(256),\n",
    "    tf.keras.layers.Dense(256),\n",
    "    \n",
    "    tf.keras.layers.Dense(1, activation='sigmoid')\n",
    "])\n",
    "\n",
    "model_ff.compile(loss='binary_crossentropy',optimizer='adam',metrics=['accuracy'])\n",
    "model_ff.summary()"
   ]
  },
  {
   "cell_type": "code",
   "execution_count": 16,
   "metadata": {},
   "outputs": [
    {
     "name": "stdout",
     "output_type": "stream",
     "text": [
      "Train on 15600 samples, validate on 5200 samples\n",
      "Epoch 1/50\n",
      "15600/15600 [==============================] - 26s 2ms/sample - loss: 0.6531 - accuracy: 0.6195 - val_loss: 0.6410 - val_accuracy: 0.6352\n",
      "Epoch 2/50\n",
      "15600/15600 [==============================] - 25s 2ms/sample - loss: 0.6467 - accuracy: 0.6281 - val_loss: 0.6406 - val_accuracy: 0.6370\n",
      "Epoch 3/50\n",
      "15600/15600 [==============================] - 24s 2ms/sample - loss: 0.6446 - accuracy: 0.6306 - val_loss: 0.6381 - val_accuracy: 0.6386\n",
      "Epoch 4/50\n",
      "15600/15600 [==============================] - 24s 2ms/sample - loss: 0.6441 - accuracy: 0.6315 - val_loss: 0.6381 - val_accuracy: 0.6385\n",
      "Epoch 5/50\n",
      "15600/15600 [==============================] - 24s 2ms/sample - loss: 0.6425 - accuracy: 0.6332 - val_loss: 0.6372 - val_accuracy: 0.6397\n",
      "Epoch 6/50\n",
      "15600/15600 [==============================] - 24s 2ms/sample - loss: 0.6420 - accuracy: 0.6338 - val_loss: 0.6364 - val_accuracy: 0.6403\n",
      "Epoch 7/50\n",
      "15600/15600 [==============================] - 24s 2ms/sample - loss: 0.6415 - accuracy: 0.6343 - val_loss: 0.6378 - val_accuracy: 0.6407\n",
      "Epoch 8/50\n",
      "15600/15600 [==============================] - 25s 2ms/sample - loss: 0.6410 - accuracy: 0.6347 - val_loss: 0.6361 - val_accuracy: 0.6408\n",
      "Epoch 9/50\n",
      "15600/15600 [==============================] - 25s 2ms/sample - loss: 0.6407 - accuracy: 0.6349 - val_loss: 0.6368 - val_accuracy: 0.6404\n",
      "Epoch 10/50\n",
      "15600/15600 [==============================] - 25s 2ms/sample - loss: 0.6404 - accuracy: 0.6354 - val_loss: 0.6366 - val_accuracy: 0.6401\n",
      "Epoch 11/50\n",
      "15600/15600 [==============================] - 26s 2ms/sample - loss: 0.6404 - accuracy: 0.6357 - val_loss: 0.6362 - val_accuracy: 0.6409\n",
      "Epoch 12/50\n",
      "15600/15600 [==============================] - 27s 2ms/sample - loss: 0.6395 - accuracy: 0.6362 - val_loss: 0.6356 - val_accuracy: 0.6412\n",
      "Epoch 13/50\n",
      "15600/15600 [==============================] - 27s 2ms/sample - loss: 0.6394 - accuracy: 0.6364 - val_loss: 0.6360 - val_accuracy: 0.6413\n",
      "Epoch 14/50\n",
      "15600/15600 [==============================] - 27s 2ms/sample - loss: 0.6390 - accuracy: 0.6369 - val_loss: 0.6359 - val_accuracy: 0.6413\n",
      "Epoch 15/50\n",
      "15600/15600 [==============================] - 28s 2ms/sample - loss: 0.6387 - accuracy: 0.6370 - val_loss: 0.6349 - val_accuracy: 0.6418\n",
      "Epoch 16/50\n",
      "15600/15600 [==============================] - 28s 2ms/sample - loss: 0.6383 - accuracy: 0.6375 - val_loss: 0.6351 - val_accuracy: 0.6417\n",
      "Epoch 17/50\n",
      "15600/15600 [==============================] - 28s 2ms/sample - loss: 0.6381 - accuracy: 0.6377 - val_loss: 0.6353 - val_accuracy: 0.6417\n",
      "Epoch 18/50\n",
      "15600/15600 [==============================] - 29s 2ms/sample - loss: 0.6383 - accuracy: 0.6375 - val_loss: 0.6359 - val_accuracy: 0.6413\n",
      "Epoch 19/50\n",
      "15600/15600 [==============================] - 28s 2ms/sample - loss: 0.6381 - accuracy: 0.6376 - val_loss: 0.6370 - val_accuracy: 0.6398\n",
      "Epoch 20/50\n",
      "15600/15600 [==============================] - 28s 2ms/sample - loss: 0.6376 - accuracy: 0.6382 - val_loss: 0.6356 - val_accuracy: 0.6418\n",
      "Epoch 21/50\n",
      "15600/15600 [==============================] - 29s 2ms/sample - loss: 0.6373 - accuracy: 0.6383 - val_loss: 0.6357 - val_accuracy: 0.6416\n",
      "Epoch 22/50\n",
      "15600/15600 [==============================] - 30s 2ms/sample - loss: 0.6375 - accuracy: 0.6381 - val_loss: 0.6370 - val_accuracy: 0.6402\n",
      "Epoch 23/50\n",
      "15600/15600 [==============================] - 29s 2ms/sample - loss: 0.6372 - accuracy: 0.6386 - val_loss: 0.6357 - val_accuracy: 0.6415\n",
      "Epoch 24/50\n",
      "15600/15600 [==============================] - 28s 2ms/sample - loss: 0.6371 - accuracy: 0.6384 - val_loss: 0.6357 - val_accuracy: 0.6415\n",
      "Epoch 25/50\n",
      "15600/15600 [==============================] - 29s 2ms/sample - loss: 0.6369 - accuracy: 0.6386 - val_loss: 0.6404 - val_accuracy: 0.6394\n",
      "Epoch 26/50\n",
      "15600/15600 [==============================] - 30s 2ms/sample - loss: 0.6368 - accuracy: 0.6388 - val_loss: 0.6351 - val_accuracy: 0.6419\n",
      "Epoch 27/50\n",
      "15600/15600 [==============================] - 30s 2ms/sample - loss: 0.6364 - accuracy: 0.6391 - val_loss: 0.6352 - val_accuracy: 0.6420\n",
      "Epoch 28/50\n",
      "15600/15600 [==============================] - 30s 2ms/sample - loss: 0.6369 - accuracy: 0.6386 - val_loss: 0.6354 - val_accuracy: 0.6417\n",
      "Epoch 29/50\n",
      "15600/15600 [==============================] - 30s 2ms/sample - loss: 0.6365 - accuracy: 0.6390 - val_loss: 0.6358 - val_accuracy: 0.6421\n",
      "Epoch 30/50\n",
      "15600/15600 [==============================] - 29s 2ms/sample - loss: 0.6363 - accuracy: 0.6391 - val_loss: 0.6356 - val_accuracy: 0.6413\n",
      "Epoch 31/50\n",
      "15600/15600 [==============================] - 31s 2ms/sample - loss: 0.6361 - accuracy: 0.6393 - val_loss: 0.6351 - val_accuracy: 0.6421\n",
      "Epoch 32/50\n",
      "15600/15600 [==============================] - 31s 2ms/sample - loss: 0.6362 - accuracy: 0.6392 - val_loss: 0.6349 - val_accuracy: 0.6420\n",
      "Epoch 33/50\n",
      "15600/15600 [==============================] - 32s 2ms/sample - loss: 0.6362 - accuracy: 0.6391 - val_loss: 0.6348 - val_accuracy: 0.6423\n",
      "Epoch 34/50\n",
      "15600/15600 [==============================] - 33s 2ms/sample - loss: 0.6361 - accuracy: 0.6392 - val_loss: 0.6349 - val_accuracy: 0.6420\n",
      "Epoch 35/50\n",
      "15600/15600 [==============================] - 32s 2ms/sample - loss: 0.6357 - accuracy: 0.6395 - val_loss: 0.6355 - val_accuracy: 0.6418\n",
      "Epoch 36/50\n",
      "15600/15600 [==============================] - 31s 2ms/sample - loss: 0.6357 - accuracy: 0.6395 - val_loss: 0.6349 - val_accuracy: 0.6422\n",
      "Epoch 37/50\n",
      "15600/15600 [==============================] - 30s 2ms/sample - loss: 0.6358 - accuracy: 0.6395 - val_loss: 0.6350 - val_accuracy: 0.6423\n",
      "Epoch 38/50\n",
      "15600/15600 [==============================] - 31s 2ms/sample - loss: 0.6355 - accuracy: 0.6397 - val_loss: 0.6353 - val_accuracy: 0.6419\n",
      "Epoch 39/50\n",
      "15600/15600 [==============================] - 32s 2ms/sample - loss: 0.6353 - accuracy: 0.6398 - val_loss: 0.6362 - val_accuracy: 0.6418\n",
      "Epoch 40/50\n",
      "15600/15600 [==============================] - 31s 2ms/sample - loss: 0.6354 - accuracy: 0.6398 - val_loss: 0.6358 - val_accuracy: 0.6415\n",
      "Epoch 41/50\n",
      "15600/15600 [==============================] - 31s 2ms/sample - loss: 0.6351 - accuracy: 0.6397 - val_loss: 0.6355 - val_accuracy: 0.6423\n",
      "Epoch 42/50\n",
      "15600/15600 [==============================] - 30s 2ms/sample - loss: 0.6351 - accuracy: 0.6400 - val_loss: 0.6361 - val_accuracy: 0.6420\n",
      "Epoch 43/50\n",
      "15600/15600 [==============================] - 30s 2ms/sample - loss: 0.6351 - accuracy: 0.6399 - val_loss: 0.6356 - val_accuracy: 0.6420\n",
      "Epoch 44/50\n",
      "15600/15600 [==============================] - 31s 2ms/sample - loss: 0.6349 - accuracy: 0.6401 - val_loss: 0.6352 - val_accuracy: 0.6421\n",
      "Epoch 45/50\n",
      "15600/15600 [==============================] - 30s 2ms/sample - loss: 0.6349 - accuracy: 0.6400 - val_loss: 0.6370 - val_accuracy: 0.6420\n",
      "Epoch 46/50\n",
      "15600/15600 [==============================] - 30s 2ms/sample - loss: 0.6349 - accuracy: 0.6402 - val_loss: 0.6367 - val_accuracy: 0.6411\n",
      "Epoch 47/50\n",
      "15600/15600 [==============================] - 31s 2ms/sample - loss: 0.6350 - accuracy: 0.6401 - val_loss: 0.6350 - val_accuracy: 0.6423\n",
      "Epoch 48/50\n",
      "15600/15600 [==============================] - 31s 2ms/sample - loss: 0.6348 - accuracy: 0.6402 - val_loss: 0.6359 - val_accuracy: 0.6418\n",
      "Epoch 49/50\n",
      "15600/15600 [==============================] - 31s 2ms/sample - loss: 0.6348 - accuracy: 0.6401 - val_loss: 0.6357 - val_accuracy: 0.6417\n",
      "Epoch 50/50\n",
      "15600/15600 [==============================] - 32s 2ms/sample - loss: 0.6346 - accuracy: 0.6402 - val_loss: 0.6357 - val_accuracy: 0.6421\n",
      "Training Complete\n"
     ]
    }
   ],
   "source": [
    "# history = model.fit(train_data, train_labels, epochs=5, batch_size=100, validation_data=[test_data, test_labels])\n",
    "history_ff = model_ff.fit(train_data, train_labels, epochs=50, validation_data=[test_data, test_labels])\n",
    "\n",
    "print(\"Training Complete\")"
   ]
  },
  {
   "cell_type": "code",
   "execution_count": 31,
   "metadata": {
    "colab": {
     "base_uri": "https://localhost:8080/",
     "height": 573
    },
    "colab_type": "code",
    "id": "C5o53b-K7jza",
    "outputId": "5b489948-4745-4201-f66a-86e43099812e"
   },
   "outputs": [
    {
     "data": {
      "image/png": "[encoded data removed]",
      "text/plain": [
       "<Figure size 432x288 with 1 Axes>"
      ]
     },
     "metadata": {
      "needs_background": "light"
     },
     "output_type": "display_data"
    },
    {
     "data": {
      "image/png": "[encoded data removed]",
      "text/plain": [
       "<Figure size 432x288 with 1 Axes>"
      ]
     },
     "metadata": {
      "needs_background": "light"
     },
     "output_type": "display_data"
    }
   ],
   "source": [
    "# Visualize the results:\n",
    "\n",
    "plt.ylim(0.6, 1.02)\n",
    "plt.plot(history.history['accuracy'])\n",
    "plt.plot(history.history['val_accuracy'])\n",
    "plt.plot(history_ff.history['accuracy'])\n",
    "plt.plot(history_ff.history['val_accuracy'])\n",
    "plt.title('Model accuracy')\n",
    "plt.ylabel('Accuracy')\n",
    "plt.xlabel('Epoch')\n",
    "plt.legend(['CRNN Train', 'CRNN Test', 'FFNN Train', 'FFNN Test'], loc='lower right')\n",
    "plt.savefig(\"crnn & ffnn model accuracy\")\n",
    "plt.show()\n",
    "\n",
    "plt.plot(history.history['loss'])\n",
    "plt.plot(history.history['val_loss'])\n",
    "plt.plot(history_ff.history['loss'])\n",
    "plt.plot(history_ff.history['val_loss'])\n",
    "plt.title('Model loss')\n",
    "plt.ylabel('Loss')\n",
    "plt.xlabel('Epoch')\n",
    "plt.legend(['CRNN Train', 'CRNN Test', 'FFNN Train', 'FFNN Test'], loc='upper right')\n",
    "plt.savefig(\"crnn & ffnn model loss\")\n",
    "plt.show()"
   ]
  },
  {
   "cell_type": "code",
   "execution_count": null,
   "metadata": {},
   "outputs": [],
   "source": []
  }
 ],
 "metadata": {
  "colab": {
   "include_colab_link": true,
   "name": "FakeNewsClassifier.ipynb",
   "provenance": []
  },
  "kernelspec": {
   "display_name": "cs3244",
   "language": "python",
   "name": "cs3244"
  },
  "language_info": {
   "codemirror_mode": {
    "name": "ipython",
    "version": 3
   },
   "file_extension": ".py",
   "mimetype": "text/x-python",
   "name": "python",
   "nbconvert_exporter": "python",
   "pygments_lexer": "ipython3",
   "version": "3.7.6"
  }
 },
 "nbformat": 4,
 "nbformat_minor": 4
}
