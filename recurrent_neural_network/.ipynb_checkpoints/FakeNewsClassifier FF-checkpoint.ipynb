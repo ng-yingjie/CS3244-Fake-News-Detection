{
 "cells": [
  {
   "cell_type": "code",
   "execution_count": 1,
   "metadata": {
    "colab": {
     "base_uri": "https://localhost:8080/",
     "height": 33
    },
    "colab_type": "code",
    "id": "ofNGIHq02U3R",
    "outputId": "b6e306a0-9071-4fe5-a03b-7bfde0dcb8c6"
   },
   "outputs": [
    {
     "name": "stdout",
     "output_type": "stream",
     "text": [
      "Correct version of Tensorflow installed.\n"
     ]
    }
   ],
   "source": [
    "# First we import the required libraries\n",
    "\n",
    "import tensorflow as tf\n",
    "import random\n",
    "import numpy as np\n",
    "import pandas as pd\n",
    "import matplotlib.image  as mpimg\n",
    "import matplotlib.pyplot as plt\n",
    "import io\n",
    "\n",
    "from sklearn.model_selection import train_test_split\n",
    "from sklearn.utils import shuffle\n",
    "from tensorflow.keras.preprocessing.text import Tokenizer\n",
    "from tensorflow.keras.preprocessing.sequence import pad_sequences\n",
    "from tensorflow.keras.utils import to_categorical\n",
    "from tensorflow.keras import regularizers\n",
    "from tensorflow.keras import backend as K \n",
    "K.clear_session()\n",
    "\n",
    "# Check tensorflow version\n",
    "if float(tf.__version__[0]) < 2.0:\n",
    "  print('Updating tensorflow')\n",
    "  !pip install tensorflow==2.0\n",
    "else:\n",
    "  print('Correct version of Tensorflow installed.')"
   ]
  },
  {
   "cell_type": "code",
   "execution_count": 2,
   "metadata": {
    "colab": {
     "base_uri": "https://localhost:8080/",
     "height": 117
    },
    "colab_type": "code",
    "id": "7YHDGDv7_VU2",
    "outputId": "94e8ecc2-88df-4681-efba-6cff72dd8374"
   },
   "outputs": [
    {
     "data": {
      "text/plain": [
       "id        20800\n",
       "title     20800\n",
       "author    20800\n",
       "text      20800\n",
       "label     20800\n",
       "dtype: int64"
      ]
     },
     "execution_count": 2,
     "metadata": {},
     "output_type": "execute_result"
    }
   ],
   "source": [
    "# Retrieve the data\n",
    "\n",
    "df = pd.read_csv('../data/raw.csv')\n",
    "df = df.fillna(' ')\n",
    "df.count()"
   ]
  },
  {
   "cell_type": "code",
   "execution_count": 3,
   "metadata": {
    "colab": {
     "base_uri": "https://localhost:8080/",
     "height": 33
    },
    "colab_type": "code",
    "id": "qHas2w8Dj5dq",
    "outputId": "86c149a3-4565-48ec-8733-2ab2f4d50525"
   },
   "outputs": [
    {
     "name": "stdout",
     "output_type": "stream",
     "text": [
      "238934\n"
     ]
    }
   ],
   "source": [
    "# Tokenize text\n",
    "\n",
    "tokenizer = Tokenizer()\n",
    "tokenizer.fit_on_texts(df['text'])\n",
    "word_index = tokenizer.word_index\n",
    "vocab_size=len(word_index)\n",
    "print(vocab_size)\n",
    "\n",
    "# Padding data\n",
    "\n",
    "sequences = tokenizer.texts_to_sequences(df['text'])\n",
    "padded = pad_sequences(sequences, maxlen=500, padding='post', truncating='post')"
   ]
  },
  {
   "cell_type": "code",
   "execution_count": 4,
   "metadata": {
    "colab": {},
    "colab_type": "code",
    "id": "L4VVJUN55b6H"
   },
   "outputs": [],
   "source": [
    "split = 0.25\n",
    "split_n = int(round(len(padded)*(1-split),0))\n",
    "\n",
    "train_data = padded[:split_n]\n",
    "train_labels = df['label'].values[:split_n]\n",
    "test_data = padded[split_n:]\n",
    "test_labels = df['label'].values[split_n:]"
   ]
  },
  {
   "cell_type": "code",
   "execution_count": 5,
   "metadata": {
    "colab": {
     "base_uri": "https://localhost:8080/",
     "height": 217
    },
    "colab_type": "code",
    "id": "4_cKfNmzkH2v",
    "outputId": "724593b4-c735-40a2-e798-189cc840f507"
   },
   "outputs": [
    {
     "name": "stdout",
     "output_type": "stream",
     "text": [
      "100\n"
     ]
    }
   ],
   "source": [
    "# Import tensor representations for words\n",
    "embeddings_index = {};\n",
    "with open('glove.6B.100d.txt') as f:\n",
    "    for line in f:\n",
    "        values = line.split();\n",
    "        word = values[0];\n",
    "        coefs = np.asarray(values[1:], dtype='float32');\n",
    "        embeddings_index[word] = coefs;\n",
    "print(len(coefs))\n",
    "\n",
    "embeddings_matrix = np.zeros((vocab_size+1, 100));\n",
    "for word, i in word_index.items():\n",
    "    embedding_vector = embeddings_index.get(word);\n",
    "    if embedding_vector is not None:\n",
    "        embeddings_matrix[i] = embedding_vector;"
   ]
  },
  {
   "cell_type": "code",
   "execution_count": 6,
   "metadata": {
    "colab": {},
    "colab_type": "code",
    "id": "hjkzdejAeSiu"
   },
   "outputs": [
    {
     "name": "stdout",
     "output_type": "stream",
     "text": [
      "Model: \"sequential\"\n",
      "_________________________________________________________________\n",
      "Layer (type)                 Output Shape              Param #   \n",
      "=================================================================\n",
      "embedding (Embedding)        (None, None, 100)         23893500  \n",
      "_________________________________________________________________\n",
      "dense (Dense)                (None, None, 256)         25856     \n",
      "_________________________________________________________________\n",
      "dense_1 (Dense)              (None, None, 256)         65792     \n",
      "_________________________________________________________________\n",
      "dense_2 (Dense)              (None, None, 1)           257       \n",
      "=================================================================\n",
      "Total params: 23,985,405\n",
      "Trainable params: 91,905\n",
      "Non-trainable params: 23,893,500\n",
      "_________________________________________________________________\n"
     ]
    }
   ],
   "source": [
    "# Build the architecture of the model\n",
    "\n",
    "model = tf.keras.Sequential([\n",
    "    tf.keras.layers.Embedding(vocab_size+1, 100, weights=[embeddings_matrix], trainable=False),\n",
    "    \n",
    "    tf.keras.layers.Dense(256),\n",
    "    tf.keras.layers.Dense(256),\n",
    "    \n",
    "    tf.keras.layers.Dense(1, activation='sigmoid')\n",
    "])\n",
    "\n",
    "model.compile(loss='binary_crossentropy',optimizer='adam',metrics=['accuracy'])\n",
    "model.summary()"
   ]
  },
  {
   "cell_type": "code",
   "execution_count": 7,
   "metadata": {},
   "outputs": [
    {
     "data": {
      "text/plain": [
       "<tf.Tensor 'embedding_input:0' shape=(None, None) dtype=float32>"
      ]
     },
     "execution_count": 7,
     "metadata": {},
     "output_type": "execute_result"
    }
   ],
   "source": [
    "model.input"
   ]
  },
  {
   "cell_type": "code",
   "execution_count": 8,
   "metadata": {
    "colab": {
     "base_uri": "https://localhost:8080/",
     "height": 718
    },
    "colab_type": "code",
    "id": "ozzZOuJClDPG",
    "outputId": "75dba8ae-e001-4cfa-d79a-d3b95afdc981"
   },
   "outputs": [
    {
     "name": "stdout",
     "output_type": "stream",
     "text": [
      "Train on 15600 samples, validate on 5200 samples\n",
      "Epoch 1/50\n",
      "15600/15600 [==============================] - 33s 2ms/sample - loss: 0.6544 - accuracy: 0.6202 - val_loss: 0.6421 - val_accuracy: 0.6335\n",
      "Epoch 2/50\n",
      "15600/15600 [==============================] - 36s 2ms/sample - loss: 0.6464 - accuracy: 0.6282 - val_loss: 0.6398 - val_accuracy: 0.6358\n",
      "Epoch 3/50\n",
      "15600/15600 [==============================] - 38s 2ms/sample - loss: 0.6443 - accuracy: 0.6310 - val_loss: 0.6381 - val_accuracy: 0.6382\n",
      "Epoch 4/50\n",
      "15600/15600 [==============================] - 37s 2ms/sample - loss: 0.6432 - accuracy: 0.6324 - val_loss: 0.6392 - val_accuracy: 0.6382\n",
      "Epoch 5/50\n",
      "15600/15600 [==============================] - 38s 2ms/sample - loss: 0.6430 - accuracy: 0.6329 - val_loss: 0.6384 - val_accuracy: 0.6399\n",
      "Epoch 6/50\n",
      "15600/15600 [==============================] - 40s 3ms/sample - loss: 0.6422 - accuracy: 0.6335 - val_loss: 0.6373 - val_accuracy: 0.6399\n",
      "Epoch 7/50\n",
      "15600/15600 [==============================] - 45s 3ms/sample - loss: 0.6415 - accuracy: 0.6343 - val_loss: 0.6370 - val_accuracy: 0.6402\n",
      "Epoch 8/50\n",
      "15600/15600 [==============================] - 41s 3ms/sample - loss: 0.6406 - accuracy: 0.6350 - val_loss: 0.6385 - val_accuracy: 0.6380\n",
      "Epoch 9/50\n",
      "15600/15600 [==============================] - 40s 3ms/sample - loss: 0.6403 - accuracy: 0.6355 - val_loss: 0.6383 - val_accuracy: 0.6384\n",
      "Epoch 10/50\n",
      "15600/15600 [==============================] - 44s 3ms/sample - loss: 0.6400 - accuracy: 0.6356 - val_loss: 0.6389 - val_accuracy: 0.6386\n",
      "Epoch 11/50\n",
      "15600/15600 [==============================] - 39s 3ms/sample - loss: 0.6396 - accuracy: 0.6361 - val_loss: 0.6363 - val_accuracy: 0.6408\n",
      "Epoch 12/50\n",
      "15600/15600 [==============================] - 38s 2ms/sample - loss: 0.6396 - accuracy: 0.6363 - val_loss: 0.6368 - val_accuracy: 0.6404\n",
      "Epoch 13/50\n",
      "15600/15600 [==============================] - 38s 2ms/sample - loss: 0.6393 - accuracy: 0.6367 - val_loss: 0.6354 - val_accuracy: 0.6413\n",
      "Epoch 14/50\n",
      "15600/15600 [==============================] - 36s 2ms/sample - loss: 0.6387 - accuracy: 0.6371 - val_loss: 0.6362 - val_accuracy: 0.6406\n",
      "Epoch 15/50\n",
      "15600/15600 [==============================] - 32s 2ms/sample - loss: 0.6388 - accuracy: 0.6370 - val_loss: 0.6372 - val_accuracy: 0.6403\n",
      "Epoch 16/50\n",
      "15600/15600 [==============================] - 32s 2ms/sample - loss: 0.6384 - accuracy: 0.6374 - val_loss: 0.6354 - val_accuracy: 0.6417\n",
      "Epoch 17/50\n",
      "15600/15600 [==============================] - 32s 2ms/sample - loss: 0.6382 - accuracy: 0.6376 - val_loss: 0.6355 - val_accuracy: 0.6413\n",
      "Epoch 18/50\n",
      "15600/15600 [==============================] - 33s 2ms/sample - loss: 0.6380 - accuracy: 0.6377 - val_loss: 0.6378 - val_accuracy: 0.6393\n",
      "Epoch 19/50\n",
      "15600/15600 [==============================] - 32s 2ms/sample - loss: 0.6378 - accuracy: 0.6379 - val_loss: 0.6358 - val_accuracy: 0.6406\n",
      "Epoch 20/50\n",
      "15600/15600 [==============================] - 34s 2ms/sample - loss: 0.6376 - accuracy: 0.6381 - val_loss: 0.6356 - val_accuracy: 0.6415\n",
      "Epoch 21/50\n",
      "15600/15600 [==============================] - 35s 2ms/sample - loss: 0.6375 - accuracy: 0.6383 - val_loss: 0.6367 - val_accuracy: 0.6405\n",
      "Epoch 22/50\n",
      "15600/15600 [==============================] - 34s 2ms/sample - loss: 0.6372 - accuracy: 0.6384 - val_loss: 0.6350 - val_accuracy: 0.6418\n",
      "Epoch 23/50\n",
      "15600/15600 [==============================] - 34s 2ms/sample - loss: 0.6370 - accuracy: 0.6385 - val_loss: 0.6349 - val_accuracy: 0.6420\n",
      "Epoch 24/50\n",
      "15600/15600 [==============================] - 35s 2ms/sample - loss: 0.6369 - accuracy: 0.6386 - val_loss: 0.6354 - val_accuracy: 0.6419\n",
      "Epoch 25/50\n",
      "15600/15600 [==============================] - 34s 2ms/sample - loss: 0.6369 - accuracy: 0.6385 - val_loss: 0.6352 - val_accuracy: 0.6417\n",
      "Epoch 26/50\n",
      "15600/15600 [==============================] - 33s 2ms/sample - loss: 0.6368 - accuracy: 0.6387 - val_loss: 0.6352 - val_accuracy: 0.6420\n",
      "Epoch 27/50\n",
      "15600/15600 [==============================] - 33s 2ms/sample - loss: 0.6366 - accuracy: 0.6388 - val_loss: 0.6356 - val_accuracy: 0.6415\n",
      "Epoch 28/50\n",
      "15600/15600 [==============================] - 33s 2ms/sample - loss: 0.6369 - accuracy: 0.6388 - val_loss: 0.6359 - val_accuracy: 0.6412\n",
      "Epoch 29/50\n",
      "15600/15600 [==============================] - 34s 2ms/sample - loss: 0.6361 - accuracy: 0.6392 - val_loss: 0.6347 - val_accuracy: 0.6420\n",
      "Epoch 30/50\n",
      "15600/15600 [==============================] - 36s 2ms/sample - loss: 0.6362 - accuracy: 0.6392 - val_loss: 0.6353 - val_accuracy: 0.6414\n",
      "Epoch 31/50\n",
      "15600/15600 [==============================] - 36s 2ms/sample - loss: 0.6359 - accuracy: 0.6394 - val_loss: 0.6363 - val_accuracy: 0.6413\n",
      "Epoch 32/50\n",
      "15600/15600 [==============================] - 36s 2ms/sample - loss: 0.6362 - accuracy: 0.6393 - val_loss: 0.6355 - val_accuracy: 0.6416\n",
      "Epoch 33/50\n",
      "15600/15600 [==============================] - 35s 2ms/sample - loss: 0.6361 - accuracy: 0.6393 - val_loss: 0.6349 - val_accuracy: 0.6422\n",
      "Epoch 34/50\n",
      "15600/15600 [==============================] - 34s 2ms/sample - loss: 0.6359 - accuracy: 0.6394 - val_loss: 0.6359 - val_accuracy: 0.6416\n",
      "Epoch 35/50\n",
      "15600/15600 [==============================] - 34s 2ms/sample - loss: 0.6358 - accuracy: 0.6394 - val_loss: 0.6349 - val_accuracy: 0.6421\n",
      "Epoch 36/50\n",
      "15600/15600 [==============================] - 33s 2ms/sample - loss: 0.6355 - accuracy: 0.6396 - val_loss: 0.6360 - val_accuracy: 0.6417\n",
      "Epoch 37/50\n",
      "15600/15600 [==============================] - 33s 2ms/sample - loss: 0.6356 - accuracy: 0.6399 - val_loss: 0.6363 - val_accuracy: 0.6420\n",
      "Epoch 38/50\n",
      "15600/15600 [==============================] - 33s 2ms/sample - loss: 0.6355 - accuracy: 0.6397 - val_loss: 0.6350 - val_accuracy: 0.6422\n",
      "Epoch 39/50\n",
      "15600/15600 [==============================] - 35s 2ms/sample - loss: 0.6353 - accuracy: 0.6398 - val_loss: 0.6354 - val_accuracy: 0.6422\n",
      "Epoch 40/50\n",
      "15600/15600 [==============================] - 33s 2ms/sample - loss: 0.6353 - accuracy: 0.6399 - val_loss: 0.6406 - val_accuracy: 0.6395\n",
      "Epoch 41/50\n",
      "15600/15600 [==============================] - 34s 2ms/sample - loss: 0.6354 - accuracy: 0.6397 - val_loss: 0.6370 - val_accuracy: 0.6403\n",
      "Epoch 42/50\n",
      "15600/15600 [==============================] - 33s 2ms/sample - loss: 0.6351 - accuracy: 0.6399 - val_loss: 0.6362 - val_accuracy: 0.6418\n",
      "Epoch 43/50\n",
      "15600/15600 [==============================] - 32s 2ms/sample - loss: 0.6353 - accuracy: 0.6399 - val_loss: 0.6355 - val_accuracy: 0.6424\n",
      "Epoch 44/50\n",
      "15600/15600 [==============================] - 32s 2ms/sample - loss: 0.6352 - accuracy: 0.6400 - val_loss: 0.6354 - val_accuracy: 0.6419\n",
      "Epoch 45/50\n",
      "15600/15600 [==============================] - 33s 2ms/sample - loss: 0.6351 - accuracy: 0.6400 - val_loss: 0.6362 - val_accuracy: 0.6421\n",
      "Epoch 46/50\n",
      "15600/15600 [==============================] - 33s 2ms/sample - loss: 0.6349 - accuracy: 0.6402 - val_loss: 0.6356 - val_accuracy: 0.6418\n",
      "Epoch 47/50\n",
      "15600/15600 [==============================] - 33s 2ms/sample - loss: 0.6349 - accuracy: 0.6402 - val_loss: 0.6355 - val_accuracy: 0.6420\n",
      "Epoch 48/50\n",
      "15600/15600 [==============================] - 32s 2ms/sample - loss: 0.6349 - accuracy: 0.6402 - val_loss: 0.6355 - val_accuracy: 0.6420\n",
      "Epoch 49/50\n",
      "15600/15600 [==============================] - 33s 2ms/sample - loss: 0.6348 - accuracy: 0.6403 - val_loss: 0.6356 - val_accuracy: 0.6420\n",
      "Epoch 50/50\n",
      "15600/15600 [==============================] - 31s 2ms/sample - loss: 0.6346 - accuracy: 0.6403 - val_loss: 0.6359 - val_accuracy: 0.6420\n",
      "Training Complete\n"
     ]
    }
   ],
   "source": [
    "# history = model.fit(train_data, train_labels, epochs=5, batch_size=100, validation_data=[test_data, test_labels])\n",
    "history = model.fit(train_data, train_labels, epochs=50, validation_data=[test_data, test_labels])\n",
    "\n",
    "print(\"Training Complete\")"
   ]
  },
  {
   "cell_type": "code",
   "execution_count": 9,
   "metadata": {
    "colab": {
     "base_uri": "https://localhost:8080/",
     "height": 573
    },
    "colab_type": "code",
    "id": "C5o53b-K7jza",
    "outputId": "5b489948-4745-4201-f66a-86e43099812e"
   },
   "outputs": [
    {
     "data": {
      "image/png": "[encoded data removed]",
      "text/plain": [
       "<Figure size 432x288 with 1 Axes>"
      ]
     },
     "metadata": {
      "needs_background": "light"
     },
     "output_type": "display_data"
    },
    {
     "data": {
      "image/png": "[encoded data removed]",
      "text/plain": [
       "<Figure size 432x288 with 1 Axes>"
      ]
     },
     "metadata": {
      "needs_background": "light"
     },
     "output_type": "display_data"
    }
   ],
   "source": [
    "# Visualize the results:\n",
    "\n",
    "plt.plot(history.history['accuracy'])\n",
    "plt.plot(history.history['val_accuracy'])\n",
    "plt.title('Model accuracy')\n",
    "plt.ylabel('Accuracy')\n",
    "plt.xlabel('Epoch')\n",
    "plt.legend(['Train', 'Test'], loc='upper left')\n",
    "plt.savefig(\"ff model accuracy\")\n",
    "plt.show()\n",
    "\n",
    "plt.plot(history.history['loss'])\n",
    "plt.plot(history.history['val_loss'])\n",
    "plt.title('Model loss')\n",
    "plt.ylabel('Loss')\n",
    "plt.xlabel('Epoch')\n",
    "plt.legend(['Train', 'Test'], loc='upper right')\n",
    "plt.savefig(\"ff model loss\")\n",
    "plt.show()"
   ]
  },
  {
   "cell_type": "code",
   "execution_count": null,
   "metadata": {
    "colab": {},
    "colab_type": "code",
    "id": "rRY2yKfbkLAn"
   },
   "outputs": [],
   "source": []
  }
 ],
 "metadata": {
  "colab": {
   "include_colab_link": true,
   "name": "FakeNewsClassifier.ipynb",
   "provenance": []
  },
  "kernelspec": {
   "display_name": "cs3244",
   "language": "python",
   "name": "cs3244"
  },
  "language_info": {
   "codemirror_mode": {
    "name": "ipython",
    "version": 3
   },
   "file_extension": ".py",
   "mimetype": "text/x-python",
   "name": "python",
   "nbconvert_exporter": "python",
   "pygments_lexer": "ipython3",
   "version": "3.7.6"
  }
 },
 "nbformat": 4,
 "nbformat_minor": 4
}
